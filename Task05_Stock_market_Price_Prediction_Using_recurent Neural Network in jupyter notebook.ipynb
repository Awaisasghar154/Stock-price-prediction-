{
 "cells": [
  {
   "cell_type": "markdown",
   "metadata": {
    "id": "xpAuMVCwfWs8"
   },
   "source": [
    "# Recurrent Neural Network"
   ]
  },
  {
   "cell_type": "markdown",
   "metadata": {
    "id": "nxJfRe4bfYVA"
   },
   "source": [
    "## Part 1 - Data Preprocessing"
   ]
  },
  {
   "cell_type": "markdown",
   "metadata": {
    "id": "ir9zwETrfbrp"
   },
   "source": [
    "### Importing the libraries"
   ]
  },
  {
   "cell_type": "code",
   "execution_count": 20,
   "metadata": {
    "id": "ZT1f24vHffuf"
   },
   "outputs": [],
   "source": [
    "# Importing the libraries\n",
    "import numpy as np\n",
    "import matplotlib.pyplot as plt\n",
    "import pandas as pd"
   ]
  },
  {
   "cell_type": "markdown",
   "metadata": {
    "id": "nQ47JAxrgmaL"
   },
   "source": [
    "### Importing the training set"
   ]
  },
  {
   "cell_type": "code",
   "execution_count": 21,
   "metadata": {
    "id": "1xiv3pJOgqY3"
   },
   "outputs": [
    {
     "data": {
      "text/plain": [
       "array([[325.25],\n",
       "       [331.27],\n",
       "       [329.83],\n",
       "       ...,\n",
       "       [793.7 ],\n",
       "       [783.33],\n",
       "       [782.75]])"
      ]
     },
     "execution_count": 21,
     "metadata": {},
     "output_type": "execute_result"
    }
   ],
   "source": [
    "dataset_train = pd.read_csv('Google_Stock_Price_Train.csv')\n",
    "training_set = dataset_train.iloc[:, 1:2].values\n",
    "training_set"
   ]
  },
  {
   "cell_type": "markdown",
   "metadata": {
    "id": "HT8_2UJegtG5"
   },
   "source": [
    "### Feature Scaling"
   ]
  },
  {
   "cell_type": "code",
   "execution_count": 22,
   "metadata": {
    "id": "OTrF2kR7gx9x"
   },
   "outputs": [],
   "source": [
    "# Feature Scaling\n",
    "# Use Normalization (versus Standardization) for RNNs with Sigmoid Activation Functions\n",
    "# 'MinMaxScalar' is a Normalization Library\n",
    "from sklearn.preprocessing import MinMaxScaler\n",
    "# 'feature_range = (0,1)' makes sure that training data is scaled to have values between 0 and 1\n",
    "sc = MinMaxScaler(feature_range = (0, 1))\n",
    "training_set_scaled = sc.fit_transform(training_set)"
   ]
  },
  {
   "cell_type": "markdown",
   "metadata": {
    "id": "JyYgYocqhNUg"
   },
   "source": [
    "### Creating a data structure with 60 timesteps and 1 output"
   ]
  },
  {
   "cell_type": "code",
   "execution_count": 23,
   "metadata": {
    "id": "iofU21B0i6ST"
   },
   "outputs": [],
   "source": [
    "# Creating a data structure with 60 timesteps (look back 60 days) and 1 output\n",
    "# This tells the RNN what to remember (Number of timesteps) when predicting the next Stock Price\n",
    "# The wrong number of timesteps can lead to Overfitting or bogus results\n",
    "# 'x_train' Input with 60 previous days' stock prices\n",
    "X_train = []\n",
    "# 'y_train' Output with next day's stock price\n",
    "y_train = []\n",
    "for i in range(60, 1258):\n",
    "    X_train.append(training_set_scaled[i-60:i, 0])\n",
    "    y_train.append(training_set_scaled[i, 0])\n",
    "X_train, y_train = np.array(X_train), np.array(y_train)"
   ]
  },
  {
   "cell_type": "markdown",
   "metadata": {
    "id": "D8yaN7Zvi95l"
   },
   "source": [
    "### Reshaping"
   ]
  },
  {
   "cell_type": "code",
   "execution_count": 24,
   "metadata": {
    "id": "FOXqJHmNjBkz"
   },
   "outputs": [
    {
     "data": {
      "text/html": [
       "<div>\n",
       "<style scoped>\n",
       "    .dataframe tbody tr th:only-of-type {\n",
       "        vertical-align: middle;\n",
       "    }\n",
       "\n",
       "    .dataframe tbody tr th {\n",
       "        vertical-align: top;\n",
       "    }\n",
       "\n",
       "    .dataframe thead th {\n",
       "        text-align: right;\n",
       "    }\n",
       "</style>\n",
       "<table border=\"1\" class=\"dataframe\">\n",
       "  <thead>\n",
       "    <tr style=\"text-align: right;\">\n",
       "      <th></th>\n",
       "      <th>Date</th>\n",
       "      <th>Open</th>\n",
       "      <th>High</th>\n",
       "      <th>Low</th>\n",
       "      <th>Close</th>\n",
       "      <th>Volume</th>\n",
       "    </tr>\n",
       "  </thead>\n",
       "  <tbody>\n",
       "    <tr>\n",
       "      <th>0</th>\n",
       "      <td>1/3/2012</td>\n",
       "      <td>325.25</td>\n",
       "      <td>332.83</td>\n",
       "      <td>324.97</td>\n",
       "      <td>663.59</td>\n",
       "      <td>7,380,500</td>\n",
       "    </tr>\n",
       "    <tr>\n",
       "      <th>1</th>\n",
       "      <td>1/4/2012</td>\n",
       "      <td>331.27</td>\n",
       "      <td>333.87</td>\n",
       "      <td>329.08</td>\n",
       "      <td>666.45</td>\n",
       "      <td>5,749,400</td>\n",
       "    </tr>\n",
       "    <tr>\n",
       "      <th>2</th>\n",
       "      <td>1/5/2012</td>\n",
       "      <td>329.83</td>\n",
       "      <td>330.75</td>\n",
       "      <td>326.89</td>\n",
       "      <td>657.21</td>\n",
       "      <td>6,590,300</td>\n",
       "    </tr>\n",
       "    <tr>\n",
       "      <th>3</th>\n",
       "      <td>1/6/2012</td>\n",
       "      <td>328.34</td>\n",
       "      <td>328.77</td>\n",
       "      <td>323.68</td>\n",
       "      <td>648.24</td>\n",
       "      <td>5,405,900</td>\n",
       "    </tr>\n",
       "    <tr>\n",
       "      <th>4</th>\n",
       "      <td>1/9/2012</td>\n",
       "      <td>322.04</td>\n",
       "      <td>322.29</td>\n",
       "      <td>309.46</td>\n",
       "      <td>620.76</td>\n",
       "      <td>11,688,800</td>\n",
       "    </tr>\n",
       "    <tr>\n",
       "      <th>...</th>\n",
       "      <td>...</td>\n",
       "      <td>...</td>\n",
       "      <td>...</td>\n",
       "      <td>...</td>\n",
       "      <td>...</td>\n",
       "      <td>...</td>\n",
       "    </tr>\n",
       "    <tr>\n",
       "      <th>1253</th>\n",
       "      <td>12/23/2016</td>\n",
       "      <td>790.90</td>\n",
       "      <td>792.74</td>\n",
       "      <td>787.28</td>\n",
       "      <td>789.91</td>\n",
       "      <td>623,400</td>\n",
       "    </tr>\n",
       "    <tr>\n",
       "      <th>1254</th>\n",
       "      <td>12/27/2016</td>\n",
       "      <td>790.68</td>\n",
       "      <td>797.86</td>\n",
       "      <td>787.66</td>\n",
       "      <td>791.55</td>\n",
       "      <td>789,100</td>\n",
       "    </tr>\n",
       "    <tr>\n",
       "      <th>1255</th>\n",
       "      <td>12/28/2016</td>\n",
       "      <td>793.70</td>\n",
       "      <td>794.23</td>\n",
       "      <td>783.20</td>\n",
       "      <td>785.05</td>\n",
       "      <td>1,153,800</td>\n",
       "    </tr>\n",
       "    <tr>\n",
       "      <th>1256</th>\n",
       "      <td>12/29/2016</td>\n",
       "      <td>783.33</td>\n",
       "      <td>785.93</td>\n",
       "      <td>778.92</td>\n",
       "      <td>782.79</td>\n",
       "      <td>744,300</td>\n",
       "    </tr>\n",
       "    <tr>\n",
       "      <th>1257</th>\n",
       "      <td>12/30/2016</td>\n",
       "      <td>782.75</td>\n",
       "      <td>782.78</td>\n",
       "      <td>770.41</td>\n",
       "      <td>771.82</td>\n",
       "      <td>1,770,000</td>\n",
       "    </tr>\n",
       "  </tbody>\n",
       "</table>\n",
       "<p>1258 rows × 6 columns</p>\n",
       "</div>"
      ],
      "text/plain": [
       "            Date    Open    High     Low   Close      Volume\n",
       "0       1/3/2012  325.25  332.83  324.97  663.59   7,380,500\n",
       "1       1/4/2012  331.27  333.87  329.08  666.45   5,749,400\n",
       "2       1/5/2012  329.83  330.75  326.89  657.21   6,590,300\n",
       "3       1/6/2012  328.34  328.77  323.68  648.24   5,405,900\n",
       "4       1/9/2012  322.04  322.29  309.46  620.76  11,688,800\n",
       "...          ...     ...     ...     ...     ...         ...\n",
       "1253  12/23/2016  790.90  792.74  787.28  789.91     623,400\n",
       "1254  12/27/2016  790.68  797.86  787.66  791.55     789,100\n",
       "1255  12/28/2016  793.70  794.23  783.20  785.05   1,153,800\n",
       "1256  12/29/2016  783.33  785.93  778.92  782.79     744,300\n",
       "1257  12/30/2016  782.75  782.78  770.41  771.82   1,770,000\n",
       "\n",
       "[1258 rows x 6 columns]"
      ]
     },
     "metadata": {},
     "output_type": "display_data"
    }
   ],
   "source": [
    "# Reshaping (add more dimensions)\n",
    "# This lets you add more indicators that may potentially have corelation with Stock Prices\n",
    "# Keras RNNs expects an input shape (Batch Size, Timesteps, input_dim)\n",
    "# '.shape[0]' is the number of Rows (Batch Size)\n",
    "# '.shape[1]' is the number of Columns (timesteps)\n",
    "# 'input_dim' is the number of factors that may affect stock prices\n",
    "X_train = np.reshape(X_train, (X_train.shape[0], X_train.shape[1], 1))\n",
    "\n",
    "# Show the dataset we're working with\n",
    "display(dataset_train)"
   ]
  },
  {
   "cell_type": "markdown",
   "metadata": {
    "id": "ZRRSOJeVjEWV"
   },
   "source": [
    "## Part 2 - Building and Training the RNN"
   ]
  },
  {
   "cell_type": "markdown",
   "metadata": {
    "id": "k4XV88JMjHXG"
   },
   "source": [
    "### Importing the Keras libraries and packages"
   ]
  },
  {
   "cell_type": "code",
   "execution_count": 25,
   "metadata": {
    "executionInfo": {
     "elapsed": 7,
     "status": "ok",
     "timestamp": 1676414787940,
     "user": {
      "displayName": "jayesh soni",
      "userId": "15631968598906199091"
     },
     "user_tz": 300
    },
    "id": "9JRnqsxEjKsD"
   },
   "outputs": [],
   "source": [
    "# Importing the Keras libraries and packages\n",
    "from keras.models import Sequential\n",
    "from keras.layers import Dense\n",
    "from keras.layers import LSTM\n",
    "from keras.layers import Dropout"
   ]
  },
  {
   "cell_type": "markdown",
   "metadata": {
    "id": "FEIE-1s9jNzC"
   },
   "source": [
    "### Initialising the RNN"
   ]
  },
  {
   "cell_type": "code",
   "execution_count": 26,
   "metadata": {
    "id": "1338dJ0UjRKH"
   },
   "outputs": [],
   "source": [
    "# Initialising the RNN\n",
    "# Regression is when you predict a continuous value\n",
    "regressor = Sequential()"
   ]
  },
  {
   "cell_type": "markdown",
   "metadata": {
    "id": "62eg1OPGjT8z"
   },
   "source": [
    "### Adding the first LSTM layer and some Dropout regularisation"
   ]
  },
  {
   "cell_type": "code",
   "execution_count": 27,
   "metadata": {
    "id": "2hIinyXUjbVU"
   },
   "outputs": [],
   "source": [
    "# Adding the first LSTM layer and some Dropout regularisation\n",
    "# 'units' is the number of LSTM Memory Cells (Neurons) for higher dimensionality\n",
    "# 'return_sequences = True' because we will add more stacked LSTM Layers\n",
    "# 'input_shape' of x_train\n",
    "regressor.add(LSTM(units = 50, return_sequences = True, input_shape = (X_train.shape[1], 1)))\n",
    "# 20% of Neurons will be ignored (10 out of 50 Neurons) to prevent Overfitting\n",
    "regressor.add(Dropout(0.2))"
   ]
  },
  {
   "cell_type": "markdown",
   "metadata": {
    "id": "3XBIYLyOjlMx"
   },
   "source": [
    "### Adding a second LSTM layer and some Dropout regularisation"
   ]
  },
  {
   "cell_type": "code",
   "execution_count": 28,
   "metadata": {
    "id": "UG7nrVaSjuZ2"
   },
   "outputs": [],
   "source": [
    "# Adding a second LSTM layer and some Dropout regularisation\n",
    "# Not need to specify input_shape for second Layer, it knows that we have 50 Neurons from the previous layer\n",
    "regressor.add(LSTM(units = 50, return_sequences = True))\n",
    "regressor.add(Dropout(0.2))"
   ]
  },
  {
   "cell_type": "markdown",
   "metadata": {
    "id": "Ey3fHVnGj1cu"
   },
   "source": [
    "### Adding a third LSTM layer and some Dropout regularisation"
   ]
  },
  {
   "cell_type": "code",
   "execution_count": 29,
   "metadata": {
    "id": "PuNi6PgFj7jO"
   },
   "outputs": [],
   "source": [
    "# Adding a third LSTM layer and some Dropout regularisation\n",
    "regressor.add(LSTM(units = 50, return_sequences = True))\n",
    "regressor.add(Dropout(0.2))"
   ]
  },
  {
   "cell_type": "markdown",
   "metadata": {
    "id": "SYTrtfTmj933"
   },
   "source": [
    "### Adding a fourth LSTM layer and some Dropout regularisation"
   ]
  },
  {
   "cell_type": "code",
   "execution_count": 30,
   "metadata": {
    "id": "Jp4Ty8fRkBYV"
   },
   "outputs": [],
   "source": [
    "# Adding a fourth LSTM layer and some Dropout regularisation\n",
    "# This is the last LSTM Layer. 'return_sequences = false' by default so we leave it out.\n",
    "regressor.add(LSTM(units = 50))\n",
    "regressor.add(Dropout(0.2))"
   ]
  },
  {
   "cell_type": "markdown",
   "metadata": {
    "id": "9ABI6rOIkHhk"
   },
   "source": [
    "### Adding the output layer"
   ]
  },
  {
   "cell_type": "code",
   "execution_count": 31,
   "metadata": {
    "id": "aM6R1z4WkME8"
   },
   "outputs": [],
   "source": [
    "# Adding the output layer\n",
    "# 'units = 1' because Output layer has one dimension\n",
    "regressor.add(Dense(units = 1))"
   ]
  },
  {
   "cell_type": "markdown",
   "metadata": {
    "id": "zLx4K7uUkPSh"
   },
   "source": [
    "### Compiling the RNN"
   ]
  },
  {
   "cell_type": "code",
   "execution_count": 32,
   "metadata": {
    "id": "XTrhVN-tkbko"
   },
   "outputs": [],
   "source": [
    "# Compiling the RNN\n",
    "# Keras documentation recommends 'RMSprop' as a good optimizer for RNNs\n",
    "# Trial and error suggests that 'adam' optimizer is a good choice\n",
    "# loss = 'mean_squared_error' which is good for Regression vs. 'Binary Cross Entropy' previously used for Classification\n",
    "regressor.compile(optimizer = 'adam', loss = 'mean_squared_error')"
   ]
  },
  {
   "cell_type": "markdown",
   "metadata": {
    "id": "-mPhwKGkkebi"
   },
   "source": [
    "### Fitting the RNN to the Training set"
   ]
  },
  {
   "cell_type": "code",
   "execution_count": 33,
   "metadata": {
    "executionInfo": {
     "elapsed": 175,
     "status": "ok",
     "timestamp": 1676414788110,
     "user": {
      "displayName": "jayesh soni",
      "userId": "15631968598906199091"
     },
     "user_tz": 300
    },
    "id": "I06Nkrz5kkb-"
   },
   "outputs": [
    {
     "name": "stdout",
     "output_type": "stream",
     "text": [
      "Epoch 1/200\n",
      "38/38 [==============================] - 8s 45ms/step - loss: 0.0345\n",
      "Epoch 2/200\n",
      "38/38 [==============================] - 2s 45ms/step - loss: 0.0068\n",
      "Epoch 3/200\n",
      "38/38 [==============================] - 2s 45ms/step - loss: 0.0052\n",
      "Epoch 4/200\n",
      "38/38 [==============================] - 2s 46ms/step - loss: 0.0052\n",
      "Epoch 5/200\n",
      "38/38 [==============================] - 2s 46ms/step - loss: 0.0053\n",
      "Epoch 6/200\n",
      "38/38 [==============================] - 2s 45ms/step - loss: 0.0052\n",
      "Epoch 7/200\n",
      "38/38 [==============================] - 2s 46ms/step - loss: 0.0050\n",
      "Epoch 8/200\n",
      "38/38 [==============================] - 2s 46ms/step - loss: 0.0048\n",
      "Epoch 9/200\n",
      "38/38 [==============================] - 2s 46ms/step - loss: 0.0049\n",
      "Epoch 10/200\n",
      "38/38 [==============================] - 2s 46ms/step - loss: 0.0045\n",
      "Epoch 11/200\n",
      "38/38 [==============================] - 2s 47ms/step - loss: 0.0046\n",
      "Epoch 12/200\n",
      "38/38 [==============================] - 2s 46ms/step - loss: 0.0040\n",
      "Epoch 13/200\n",
      "38/38 [==============================] - 2s 48ms/step - loss: 0.0044\n",
      "Epoch 14/200\n",
      "38/38 [==============================] - 2s 47ms/step - loss: 0.0040\n",
      "Epoch 15/200\n",
      "38/38 [==============================] - 2s 47ms/step - loss: 0.0041\n",
      "Epoch 16/200\n",
      "38/38 [==============================] - 2s 48ms/step - loss: 0.0040\n",
      "Epoch 17/200\n",
      "38/38 [==============================] - 2s 49ms/step - loss: 0.0040\n",
      "Epoch 18/200\n",
      "38/38 [==============================] - 2s 49ms/step - loss: 0.0039\n",
      "Epoch 19/200\n",
      "38/38 [==============================] - 2s 48ms/step - loss: 0.0042\n",
      "Epoch 20/200\n",
      "38/38 [==============================] - 2s 48ms/step - loss: 0.0034\n",
      "Epoch 21/200\n",
      "38/38 [==============================] - 2s 49ms/step - loss: 0.0032\n",
      "Epoch 22/200\n",
      "38/38 [==============================] - 2s 50ms/step - loss: 0.0032\n",
      "Epoch 23/200\n",
      "38/38 [==============================] - 2s 50ms/step - loss: 0.0035\n",
      "Epoch 24/200\n",
      "38/38 [==============================] - 2s 51ms/step - loss: 0.0037\n",
      "Epoch 25/200\n",
      "38/38 [==============================] - 2s 49ms/step - loss: 0.0032\n",
      "Epoch 26/200\n",
      "38/38 [==============================] - 2s 50ms/step - loss: 0.0030\n",
      "Epoch 27/200\n",
      "38/38 [==============================] - 2s 51ms/step - loss: 0.0029\n",
      "Epoch 28/200\n",
      "38/38 [==============================] - 2s 51ms/step - loss: 0.0030\n",
      "Epoch 29/200\n",
      "38/38 [==============================] - 2s 55ms/step - loss: 0.0026\n",
      "Epoch 30/200\n",
      "38/38 [==============================] - 2s 61ms/step - loss: 0.0032\n",
      "Epoch 31/200\n",
      "38/38 [==============================] - 3s 85ms/step - loss: 0.0029\n",
      "Epoch 32/200\n",
      "38/38 [==============================] - 3s 90ms/step - loss: 0.0028\n",
      "Epoch 33/200\n",
      "38/38 [==============================] - 4s 94ms/step - loss: 0.0030\n",
      "Epoch 34/200\n",
      "38/38 [==============================] - 2s 52ms/step - loss: 0.0026\n",
      "Epoch 35/200\n",
      "38/38 [==============================] - 2s 52ms/step - loss: 0.0029\n",
      "Epoch 36/200\n",
      "38/38 [==============================] - 2s 52ms/step - loss: 0.0025\n",
      "Epoch 37/200\n",
      "38/38 [==============================] - 2s 51ms/step - loss: 0.0026\n",
      "Epoch 38/200\n",
      "38/38 [==============================] - 2s 51ms/step - loss: 0.0028\n",
      "Epoch 39/200\n",
      "38/38 [==============================] - 2s 52ms/step - loss: 0.0027\n",
      "Epoch 40/200\n",
      "38/38 [==============================] - 2s 53ms/step - loss: 0.0026\n",
      "Epoch 41/200\n",
      "38/38 [==============================] - 2s 52ms/step - loss: 0.0025\n",
      "Epoch 42/200\n",
      "38/38 [==============================] - 2s 52ms/step - loss: 0.0029\n",
      "Epoch 43/200\n",
      "38/38 [==============================] - 2s 52ms/step - loss: 0.0026\n",
      "Epoch 44/200\n",
      "38/38 [==============================] - 2s 52ms/step - loss: 0.0023\n",
      "Epoch 45/200\n",
      "38/38 [==============================] - 2s 53ms/step - loss: 0.0023\n",
      "Epoch 46/200\n",
      "38/38 [==============================] - 2s 52ms/step - loss: 0.0023\n",
      "Epoch 47/200\n",
      "38/38 [==============================] - 2s 52ms/step - loss: 0.0029\n",
      "Epoch 48/200\n",
      "38/38 [==============================] - 2s 51ms/step - loss: 0.0025\n",
      "Epoch 49/200\n",
      "38/38 [==============================] - 2s 52ms/step - loss: 0.0029\n",
      "Epoch 50/200\n",
      "38/38 [==============================] - 2s 53ms/step - loss: 0.0023\n",
      "Epoch 51/200\n",
      "38/38 [==============================] - 2s 53ms/step - loss: 0.0022\n",
      "Epoch 52/200\n",
      "38/38 [==============================] - 2s 52ms/step - loss: 0.0022\n",
      "Epoch 53/200\n",
      "38/38 [==============================] - 2s 52ms/step - loss: 0.0022\n",
      "Epoch 54/200\n",
      "38/38 [==============================] - 2s 52ms/step - loss: 0.0021\n",
      "Epoch 55/200\n",
      "38/38 [==============================] - 2s 53ms/step - loss: 0.0022\n",
      "Epoch 56/200\n",
      "38/38 [==============================] - 2s 53ms/step - loss: 0.0024\n",
      "Epoch 57/200\n",
      "38/38 [==============================] - 2s 52ms/step - loss: 0.0021\n",
      "Epoch 58/200\n",
      "38/38 [==============================] - 2s 53ms/step - loss: 0.0020\n",
      "Epoch 59/200\n",
      "38/38 [==============================] - 3s 67ms/step - loss: 0.0021\n",
      "Epoch 60/200\n",
      "38/38 [==============================] - 2s 54ms/step - loss: 0.0025\n",
      "Epoch 61/200\n",
      "38/38 [==============================] - 2s 53ms/step - loss: 0.0020\n",
      "Epoch 62/200\n",
      "38/38 [==============================] - 2s 52ms/step - loss: 0.0021\n",
      "Epoch 63/200\n",
      "38/38 [==============================] - 2s 53ms/step - loss: 0.0019\n",
      "Epoch 64/200\n",
      "38/38 [==============================] - 2s 53ms/step - loss: 0.0020\n",
      "Epoch 65/200\n",
      "38/38 [==============================] - 2s 53ms/step - loss: 0.0018\n",
      "Epoch 66/200\n",
      "38/38 [==============================] - 2s 53ms/step - loss: 0.0019\n",
      "Epoch 67/200\n",
      "38/38 [==============================] - 2s 53ms/step - loss: 0.0019\n",
      "Epoch 68/200\n",
      "38/38 [==============================] - 2s 53ms/step - loss: 0.0018\n",
      "Epoch 69/200\n",
      "38/38 [==============================] - 2s 53ms/step - loss: 0.0017\n",
      "Epoch 70/200\n",
      "38/38 [==============================] - 2s 54ms/step - loss: 0.0019\n",
      "Epoch 71/200\n",
      "38/38 [==============================] - 2s 53ms/step - loss: 0.0019\n",
      "Epoch 72/200\n",
      "38/38 [==============================] - 2s 54ms/step - loss: 0.0019\n",
      "Epoch 73/200\n",
      "38/38 [==============================] - 2s 53ms/step - loss: 0.0021\n",
      "Epoch 74/200\n",
      "38/38 [==============================] - 2s 55ms/step - loss: 0.0021\n",
      "Epoch 75/200\n",
      "38/38 [==============================] - 2s 54ms/step - loss: 0.0020\n",
      "Epoch 76/200\n",
      "38/38 [==============================] - 2s 53ms/step - loss: 0.0018\n",
      "Epoch 77/200\n",
      "38/38 [==============================] - 2s 53ms/step - loss: 0.0017\n",
      "Epoch 78/200\n",
      "38/38 [==============================] - 2s 53ms/step - loss: 0.0015\n",
      "Epoch 79/200\n",
      "38/38 [==============================] - 2s 53ms/step - loss: 0.0020\n",
      "Epoch 80/200\n",
      "38/38 [==============================] - 2s 54ms/step - loss: 0.0016\n",
      "Epoch 81/200\n",
      "38/38 [==============================] - 2s 54ms/step - loss: 0.0018\n",
      "Epoch 82/200\n",
      "38/38 [==============================] - 2s 53ms/step - loss: 0.0015\n",
      "Epoch 83/200\n",
      "38/38 [==============================] - 2s 54ms/step - loss: 0.0018\n",
      "Epoch 84/200\n",
      "38/38 [==============================] - 2s 54ms/step - loss: 0.0018\n",
      "Epoch 85/200\n",
      "38/38 [==============================] - 2s 54ms/step - loss: 0.0016\n",
      "Epoch 86/200\n",
      "38/38 [==============================] - 2s 54ms/step - loss: 0.0015\n",
      "Epoch 87/200\n",
      "38/38 [==============================] - 2s 53ms/step - loss: 0.0018\n",
      "Epoch 88/200\n",
      "38/38 [==============================] - 2s 53ms/step - loss: 0.0017\n",
      "Epoch 89/200\n",
      "38/38 [==============================] - 2s 55ms/step - loss: 0.0015\n",
      "Epoch 90/200\n",
      "38/38 [==============================] - 2s 53ms/step - loss: 0.0015\n",
      "Epoch 91/200\n",
      "38/38 [==============================] - 2s 53ms/step - loss: 0.0013\n",
      "Epoch 92/200\n",
      "38/38 [==============================] - 2s 53ms/step - loss: 0.0017\n",
      "Epoch 93/200\n",
      "38/38 [==============================] - 2s 53ms/step - loss: 0.0015\n",
      "Epoch 94/200\n",
      "38/38 [==============================] - 2s 59ms/step - loss: 0.0014\n",
      "Epoch 95/200\n",
      "38/38 [==============================] - 2s 60ms/step - loss: 0.0016\n",
      "Epoch 96/200\n",
      "38/38 [==============================] - 2s 60ms/step - loss: 0.0013\n",
      "Epoch 97/200\n",
      "38/38 [==============================] - 2s 56ms/step - loss: 0.0014\n",
      "Epoch 98/200\n",
      "38/38 [==============================] - 2s 59ms/step - loss: 0.0015\n",
      "Epoch 99/200\n",
      "38/38 [==============================] - 2s 57ms/step - loss: 0.0014\n",
      "Epoch 100/200\n",
      "38/38 [==============================] - 2s 56ms/step - loss: 0.0014\n",
      "Epoch 101/200\n"
     ]
    },
    {
     "name": "stdout",
     "output_type": "stream",
     "text": [
      "38/38 [==============================] - 2s 54ms/step - loss: 0.0013\n",
      "Epoch 102/200\n",
      "38/38 [==============================] - 2s 53ms/step - loss: 0.0015\n",
      "Epoch 103/200\n",
      "38/38 [==============================] - 2s 56ms/step - loss: 0.0015\n",
      "Epoch 104/200\n",
      "38/38 [==============================] - 2s 54ms/step - loss: 0.0014\n",
      "Epoch 105/200\n",
      "38/38 [==============================] - 2s 54ms/step - loss: 0.0014\n",
      "Epoch 106/200\n",
      "38/38 [==============================] - 2s 54ms/step - loss: 0.0013\n",
      "Epoch 107/200\n",
      "38/38 [==============================] - 2s 56ms/step - loss: 0.0013\n",
      "Epoch 108/200\n",
      "38/38 [==============================] - 3s 70ms/step - loss: 0.0015\n",
      "Epoch 109/200\n",
      "38/38 [==============================] - 3s 73ms/step - loss: 0.0015\n",
      "Epoch 110/200\n",
      "38/38 [==============================] - 3s 75ms/step - loss: 0.0014\n",
      "Epoch 111/200\n",
      "38/38 [==============================] - 3s 72ms/step - loss: 0.0014\n",
      "Epoch 112/200\n",
      "38/38 [==============================] - 3s 68ms/step - loss: 0.0013\n",
      "Epoch 113/200\n",
      "38/38 [==============================] - 2s 58ms/step - loss: 0.0012\n",
      "Epoch 114/200\n",
      "38/38 [==============================] - 2s 53ms/step - loss: 0.0013\n",
      "Epoch 115/200\n",
      "38/38 [==============================] - 2s 58ms/step - loss: 0.0013\n",
      "Epoch 116/200\n",
      "38/38 [==============================] - 2s 60ms/step - loss: 0.0014\n",
      "Epoch 117/200\n",
      "38/38 [==============================] - 3s 69ms/step - loss: 0.0012\n",
      "Epoch 118/200\n",
      "38/38 [==============================] - 2s 58ms/step - loss: 0.0012\n",
      "Epoch 119/200\n",
      "38/38 [==============================] - 2s 58ms/step - loss: 0.0016\n",
      "Epoch 120/200\n",
      "38/38 [==============================] - 2s 54ms/step - loss: 0.0013\n",
      "Epoch 121/200\n",
      "38/38 [==============================] - 2s 54ms/step - loss: 0.0013\n",
      "Epoch 122/200\n",
      "38/38 [==============================] - 2s 56ms/step - loss: 0.0013\n",
      "Epoch 123/200\n",
      "38/38 [==============================] - 2s 55ms/step - loss: 0.0014\n",
      "Epoch 124/200\n",
      "38/38 [==============================] - 3s 75ms/step - loss: 0.0013\n",
      "Epoch 125/200\n",
      "38/38 [==============================] - 2s 62ms/step - loss: 0.0012\n",
      "Epoch 126/200\n",
      "38/38 [==============================] - 2s 59ms/step - loss: 0.0011\n",
      "Epoch 127/200\n",
      "38/38 [==============================] - 2s 54ms/step - loss: 0.0012\n",
      "Epoch 128/200\n",
      "38/38 [==============================] - 2s 56ms/step - loss: 0.0012\n",
      "Epoch 129/200\n",
      "38/38 [==============================] - 2s 57ms/step - loss: 0.0012\n",
      "Epoch 130/200\n",
      "38/38 [==============================] - 2s 55ms/step - loss: 0.0011\n",
      "Epoch 131/200\n",
      "38/38 [==============================] - 2s 53ms/step - loss: 0.0012\n",
      "Epoch 132/200\n",
      "38/38 [==============================] - 2s 61ms/step - loss: 0.0012\n",
      "Epoch 133/200\n",
      "38/38 [==============================] - 2s 57ms/step - loss: 0.0013\n",
      "Epoch 134/200\n",
      "38/38 [==============================] - 2s 55ms/step - loss: 0.0012\n",
      "Epoch 135/200\n",
      "38/38 [==============================] - 2s 57ms/step - loss: 0.0012\n",
      "Epoch 136/200\n",
      "38/38 [==============================] - 2s 56ms/step - loss: 0.0011\n",
      "Epoch 137/200\n",
      "38/38 [==============================] - 2s 57ms/step - loss: 0.0012\n",
      "Epoch 138/200\n",
      "38/38 [==============================] - 2s 59ms/step - loss: 0.0011\n",
      "Epoch 139/200\n",
      "38/38 [==============================] - 3s 81ms/step - loss: 0.0011\n",
      "Epoch 140/200\n",
      "38/38 [==============================] - 2s 59ms/step - loss: 0.0011\n",
      "Epoch 141/200\n",
      "38/38 [==============================] - 2s 54ms/step - loss: 0.0012\n",
      "Epoch 142/200\n",
      "38/38 [==============================] - 2s 62ms/step - loss: 0.0012\n",
      "Epoch 143/200\n",
      "38/38 [==============================] - 2s 65ms/step - loss: 0.0011\n",
      "Epoch 144/200\n",
      "38/38 [==============================] - 2s 61ms/step - loss: 0.0012\n",
      "Epoch 145/200\n",
      "38/38 [==============================] - 2s 61ms/step - loss: 0.0013\n",
      "Epoch 146/200\n",
      "38/38 [==============================] - 2s 60ms/step - loss: 0.0013\n",
      "Epoch 147/200\n",
      "38/38 [==============================] - 2s 63ms/step - loss: 0.0011\n",
      "Epoch 148/200\n",
      "38/38 [==============================] - 2s 60ms/step - loss: 0.0013\n",
      "Epoch 149/200\n",
      "38/38 [==============================] - 2s 63ms/step - loss: 0.0012\n",
      "Epoch 150/200\n",
      "38/38 [==============================] - 3s 72ms/step - loss: 0.0011\n",
      "Epoch 151/200\n",
      "38/38 [==============================] - 2s 53ms/step - loss: 0.0011\n",
      "Epoch 152/200\n",
      "38/38 [==============================] - 2s 56ms/step - loss: 0.0010\n",
      "Epoch 153/200\n",
      "38/38 [==============================] - 2s 53ms/step - loss: 9.9097e-04\n",
      "Epoch 154/200\n",
      "38/38 [==============================] - 2s 59ms/step - loss: 0.0012\n",
      "Epoch 155/200\n",
      "38/38 [==============================] - 2s 57ms/step - loss: 0.0013\n",
      "Epoch 156/200\n",
      "38/38 [==============================] - 2s 53ms/step - loss: 0.0011\n",
      "Epoch 157/200\n",
      "38/38 [==============================] - 2s 54ms/step - loss: 0.0011\n",
      "Epoch 158/200\n",
      "38/38 [==============================] - 2s 53ms/step - loss: 0.0011\n",
      "Epoch 159/200\n",
      "38/38 [==============================] - 2s 53ms/step - loss: 0.0011\n",
      "Epoch 160/200\n",
      "38/38 [==============================] - 2s 53ms/step - loss: 0.0013\n",
      "Epoch 161/200\n",
      "38/38 [==============================] - 2s 54ms/step - loss: 0.0011\n",
      "Epoch 162/200\n",
      "38/38 [==============================] - 2s 53ms/step - loss: 0.0011\n",
      "Epoch 163/200\n",
      "38/38 [==============================] - 2s 57ms/step - loss: 0.0017\n",
      "Epoch 164/200\n",
      "38/38 [==============================] - 2s 54ms/step - loss: 0.0010\n",
      "Epoch 165/200\n",
      "38/38 [==============================] - 2s 54ms/step - loss: 0.0011\n",
      "Epoch 166/200\n",
      "38/38 [==============================] - 2s 54ms/step - loss: 0.0011\n",
      "Epoch 167/200\n",
      "38/38 [==============================] - 2s 57ms/step - loss: 0.0011\n",
      "Epoch 168/200\n",
      "38/38 [==============================] - 2s 54ms/step - loss: 0.0011\n",
      "Epoch 169/200\n",
      "38/38 [==============================] - 2s 53ms/step - loss: 0.0011\n",
      "Epoch 170/200\n",
      "38/38 [==============================] - 2s 52ms/step - loss: 9.4637e-04\n",
      "Epoch 171/200\n",
      "38/38 [==============================] - 2s 54ms/step - loss: 0.0011\n",
      "Epoch 172/200\n",
      "38/38 [==============================] - 2s 52ms/step - loss: 0.0011\n",
      "Epoch 173/200\n",
      "38/38 [==============================] - 2s 54ms/step - loss: 0.0011\n",
      "Epoch 174/200\n",
      "38/38 [==============================] - 2s 55ms/step - loss: 0.0010\n",
      "Epoch 175/200\n",
      "38/38 [==============================] - 2s 55ms/step - loss: 0.0011\n",
      "Epoch 176/200\n",
      "38/38 [==============================] - 2s 54ms/step - loss: 0.0010\n",
      "Epoch 177/200\n",
      "38/38 [==============================] - 2s 55ms/step - loss: 0.0012\n",
      "Epoch 178/200\n",
      "38/38 [==============================] - 2s 53ms/step - loss: 0.0011\n",
      "Epoch 179/200\n",
      "38/38 [==============================] - 2s 53ms/step - loss: 9.4830e-04\n",
      "Epoch 180/200\n",
      "38/38 [==============================] - 2s 55ms/step - loss: 9.7374e-04\n",
      "Epoch 181/200\n",
      "38/38 [==============================] - 2s 54ms/step - loss: 0.0011\n",
      "Epoch 182/200\n",
      "38/38 [==============================] - 2s 54ms/step - loss: 9.5923e-04\n",
      "Epoch 183/200\n",
      "38/38 [==============================] - 2s 53ms/step - loss: 0.0011\n",
      "Epoch 184/200\n",
      "38/38 [==============================] - 2s 54ms/step - loss: 9.7606e-04\n",
      "Epoch 185/200\n",
      "38/38 [==============================] - 2s 56ms/step - loss: 0.0011\n",
      "Epoch 186/200\n",
      "38/38 [==============================] - 2s 55ms/step - loss: 9.2077e-04\n",
      "Epoch 187/200\n",
      "38/38 [==============================] - 2s 54ms/step - loss: 0.0012\n",
      "Epoch 188/200\n",
      "38/38 [==============================] - 3s 71ms/step - loss: 0.0012\n",
      "Epoch 189/200\n",
      "38/38 [==============================] - 3s 70ms/step - loss: 0.0011\n",
      "Epoch 190/200\n",
      "38/38 [==============================] - 2s 61ms/step - loss: 9.4316e-04\n",
      "Epoch 191/200\n",
      "38/38 [==============================] - 2s 56ms/step - loss: 0.0012\n",
      "Epoch 192/200\n",
      "38/38 [==============================] - 3s 70ms/step - loss: 0.0012\n",
      "Epoch 193/200\n",
      "38/38 [==============================] - 2s 54ms/step - loss: 9.5740e-04\n",
      "Epoch 194/200\n",
      "38/38 [==============================] - 2s 59ms/step - loss: 9.5650e-04\n",
      "Epoch 195/200\n",
      "38/38 [==============================] - 2s 54ms/step - loss: 9.8898e-04\n",
      "Epoch 196/200\n",
      "38/38 [==============================] - 2s 53ms/step - loss: 0.0011\n",
      "Epoch 197/200\n",
      "38/38 [==============================] - 2s 54ms/step - loss: 0.0011\n",
      "Epoch 198/200\n",
      "38/38 [==============================] - 2s 61ms/step - loss: 9.4725e-04\n",
      "Epoch 199/200\n"
     ]
    },
    {
     "name": "stdout",
     "output_type": "stream",
     "text": [
      "38/38 [==============================] - 2s 56ms/step - loss: 9.0135e-04\n",
      "Epoch 200/200\n",
      "38/38 [==============================] - 2s 54ms/step - loss: 9.4089e-04\n"
     ]
    },
    {
     "data": {
      "text/plain": [
       "<keras.callbacks.History at 0x1a0f3203a60>"
      ]
     },
     "execution_count": 33,
     "metadata": {},
     "output_type": "execute_result"
    }
   ],
   "source": [
    "# Fitting the RNN to the Training set\n",
    "# 'X_train' Independent variables\n",
    "# 'y_train' Output Truths that we compare X_train to.\n",
    "regressor.fit(X_train, y_train, epochs = 200, batch_size = 32)"
   ]
  },
  {
   "cell_type": "markdown",
   "metadata": {
    "id": "4hRau_lIkrE8"
   },
   "source": [
    "## Part 3 - Making the predictions and visualising the results"
   ]
  },
  {
   "cell_type": "markdown",
   "metadata": {
    "id": "SgJO6qEDksxD"
   },
   "source": [
    "### Getting the real stock price of 2017"
   ]
  },
  {
   "cell_type": "code",
   "execution_count": 34,
   "metadata": {
    "id": "FmBT2zqukxTz"
   },
   "outputs": [],
   "source": [
    "# Getting the real stock price of 2017\n",
    "dataset_test = pd.read_csv('Google_Stock_Price_Test.csv')\n",
    "real_stock_price = dataset_test.iloc[:, 1:2].values"
   ]
  },
  {
   "cell_type": "markdown",
   "metadata": {
    "id": "GrvrLblxkz42"
   },
   "source": [
    "### Getting the predicted stock price of 2017"
   ]
  },
  {
   "cell_type": "code",
   "execution_count": 35,
   "metadata": {
    "id": "emikTvUpk3Ck"
   },
   "outputs": [],
   "source": [
    "# Getting the predicted stock price of 2017\n",
    "# We need 60 previous inputs for each day of the Test_set in 2017\n",
    "# Combine 'dataset_train' and 'dataset_test'\n",
    "# 'axis = 0' for Vertical Concatenation to add rows to the bottom\n",
    "dataset_total = pd.concat((dataset_train['Open'], dataset_test['Open']), axis = 0)\n",
    "# Extract Stock Prices for Test time period, plus 60 days previous\n",
    "inputs = dataset_total[len(dataset_total) - len(dataset_test) - 60:].values\n",
    "# 'reshape' function to get it into a NumPy format\n",
    "inputs = inputs.reshape(-1,1)\n",
    "# Inputs need to be scaled to match the model trained on Scaled Feature\n",
    "inputs = sc.transform(inputs)\n",
    "# The following is pasted from above and modified for Testing, romove all 'Ys'\n",
    "X_test = []\n",
    "\n",
    "for i in range(60, 80):\n",
    "    X_test.append(inputs[i-60:i, 0])\n",
    "\n",
    "X_test = np.array(X_test)\n",
    "# We need a 3D input so add another dimension\n",
    "X_test = np.reshape(X_test, (X_test.shape[0], X_test.shape[1], 1))\n",
    "# Predict the Stock Price\n",
    "predicted_stock_price = regressor.predict(X_test)\n",
    "# We need to inverse the scaling of our prediction to get a Dollar amount\n",
    "predicted_stock_price = sc.inverse_transform(predicted_stock_price)"
   ]
  },
  {
   "cell_type": "markdown",
   "metadata": {
    "id": "iFTNs3YHk6FQ"
   },
   "source": [
    "### Visualising the results"
   ]
  },
  {
   "cell_type": "code",
   "execution_count": 36,
   "metadata": {
    "executionInfo": {
     "elapsed": 3,
     "status": "ok",
     "timestamp": 1676414788111,
     "user": {
      "displayName": "jayesh soni",
      "userId": "15631968598906199091"
     },
     "user_tz": 300
    },
    "id": "8OUI8U49k9tH"
   },
   "outputs": [
    {
     "data": {
      "image/png": "[encoded data removed]",
      "text/plain": [
       "<Figure size 432x288 with 1 Axes>"
      ]
     },
     "metadata": {
      "needs_background": "light"
     },
     "output_type": "display_data"
    }
   ],
   "source": [
    "# Visualising the results\n",
    "plt.plot(real_stock_price, color = 'red', label = 'Real Google Stock Price')\n",
    "plt.plot(predicted_stock_price, color = 'blue', label = 'Predicted Google Stock Price')\n",
    "plt.title('Google Stock Price Prediction')\n",
    "plt.xlabel('Time')\n",
    "plt.ylabel('Google Stock Price')\n",
    "plt.legend()\n",
    "plt.show()"
   ]
  },
  {
   "cell_type": "code",
   "execution_count": null,
   "metadata": {},
   "outputs": [],
   "source": []
  }
 ],
 "metadata": {
  "colab": {
   "provenance": []
  },
  "kernelspec": {
   "display_name": "Python 3",
   "language": "python",
   "name": "python3"
  },
  "language_info": {
   "codemirror_mode": {
    "name": "ipython",
    "version": 3
   },
   "file_extension": ".py",
   "mimetype": "text/x-python",
   "name": "python",
   "nbconvert_exporter": "python",
   "pygments_lexer": "ipython3",
   "version": "3.8.5"
  }
 },
 "nbformat": 4,
 "nbformat_minor": 1
}
